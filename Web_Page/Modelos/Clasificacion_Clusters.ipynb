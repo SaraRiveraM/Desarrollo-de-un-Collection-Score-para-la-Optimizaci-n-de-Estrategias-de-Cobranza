{
  "cells": [
    {
      "cell_type": "code",
      "execution_count": null,
      "id": "50a31732",
      "metadata": {
        "id": "50a31732"
      },
      "outputs": [],
      "source": [
        "import pandas as pd\n",
        "import numpy as np\n",
        "import matplotlib.pyplot as plt\n",
        "import seaborn as sns\n",
        "import warnings\n",
        "import joblib\n",
        "warnings.filterwarnings(\"ignore\")"
      ]
    },
    {
      "cell_type": "code",
      "execution_count": null,
      "id": "ccc849fc",
      "metadata": {
        "colab": {
          "base_uri": "https://localhost:8080/",
          "height": 255
        },
        "id": "ccc849fc",
        "outputId": "0c0692ed-98f4-41ab-f43e-8f5daa9fed54"
      },
      "outputs": [
        {
          "output_type": "execute_result",
          "data": {
            "text/plain": [
              "      PCA_1     PCA_2     PCA_3     PCA_4     PCA_5     PCA_6     PCA_7  \\\n",
              "0 -2.658543 -5.968461  0.231951  7.892412  4.153116  1.695499 -0.649449   \n",
              "1 -2.590676 -5.937386  0.248311  7.411845  4.211555  0.818991 -0.117905   \n",
              "2 -2.135377 -6.289446  0.213898  7.576798  3.918421  2.003072 -0.747290   \n",
              "3 -1.212757 -6.602966  0.237742  7.495102  3.933036  1.295301 -0.393547   \n",
              "4 -2.403445 -7.034885  0.218804  7.757106  3.782565  1.816631 -0.600110   \n",
              "\n",
              "      PCA_8     PCA_9    PCA_10  ...    PCA_63    PCA_64    PCA_65    PCA_66  \\\n",
              "0 -4.341447 -0.975170 -1.688808  ... -0.880154  0.587800 -0.866454  1.051494   \n",
              "1 -4.620935  0.174734 -0.470983  ... -0.030040 -0.113300  0.956202 -0.560775   \n",
              "2 -3.396869 -2.314333 -2.064491  ... -0.233352 -0.445675  0.777352 -0.103923   \n",
              "3 -4.409749 -1.121029 -0.369048  ... -0.408606 -0.054751  1.227692  1.955058   \n",
              "4 -3.916189 -1.449555 -1.772607  ... -0.874185  0.000477  0.051485  0.548440   \n",
              "\n",
              "     PCA_67    PCA_68    PCA_69    PCA_70  Variable_objetivo  Cluster  \n",
              "0 -0.599151  1.328095 -3.243144  0.376839                  1        2  \n",
              "1  0.151309  0.108843  0.000435  1.261450                  1        2  \n",
              "2 -0.134453 -0.340532 -0.316837  0.832557                  1        2  \n",
              "3  2.975982 -2.589772 -0.192460 -1.757941                  0        2  \n",
              "4  0.590822  0.877269  0.034263  0.109223                  0        2  \n",
              "\n",
              "[5 rows x 72 columns]"
            ],
            "text/html": [
              "\n",
              "  <div id=\"df-9e20f891-9371-4893-a4dd-367445b9b767\" class=\"colab-df-container\">\n",
              "    <div>\n",
              "<style scoped>\n",
              "    .dataframe tbody tr th:only-of-type {\n",
              "        vertical-align: middle;\n",
              "    }\n",
              "\n",
              "    .dataframe tbody tr th {\n",
              "        vertical-align: top;\n",
              "    }\n",
              "\n",
              "    .dataframe thead th {\n",
              "        text-align: right;\n",
              "    }\n",
              "</style>\n",
              "<table border=\"1\" class=\"dataframe\">\n",
              "  <thead>\n",
              "    <tr style=\"text-align: right;\">\n",
              "      <th></th>\n",
              "      <th>PCA_1</th>\n",
              "      <th>PCA_2</th>\n",
              "      <th>PCA_3</th>\n",
              "      <th>PCA_4</th>\n",
              "      <th>PCA_5</th>\n",
              "      <th>PCA_6</th>\n",
              "      <th>PCA_7</th>\n",
              "      <th>PCA_8</th>\n",
              "      <th>PCA_9</th>\n",
              "      <th>PCA_10</th>\n",
              "      <th>...</th>\n",
              "      <th>PCA_63</th>\n",
              "      <th>PCA_64</th>\n",
              "      <th>PCA_65</th>\n",
              "      <th>PCA_66</th>\n",
              "      <th>PCA_67</th>\n",
              "      <th>PCA_68</th>\n",
              "      <th>PCA_69</th>\n",
              "      <th>PCA_70</th>\n",
              "      <th>Variable_objetivo</th>\n",
              "      <th>Cluster</th>\n",
              "    </tr>\n",
              "  </thead>\n",
              "  <tbody>\n",
              "    <tr>\n",
              "      <th>0</th>\n",
              "      <td>-2.658543</td>\n",
              "      <td>-5.968461</td>\n",
              "      <td>0.231951</td>\n",
              "      <td>7.892412</td>\n",
              "      <td>4.153116</td>\n",
              "      <td>1.695499</td>\n",
              "      <td>-0.649449</td>\n",
              "      <td>-4.341447</td>\n",
              "      <td>-0.975170</td>\n",
              "      <td>-1.688808</td>\n",
              "      <td>...</td>\n",
              "      <td>-0.880154</td>\n",
              "      <td>0.587800</td>\n",
              "      <td>-0.866454</td>\n",
              "      <td>1.051494</td>\n",
              "      <td>-0.599151</td>\n",
              "      <td>1.328095</td>\n",
              "      <td>-3.243144</td>\n",
              "      <td>0.376839</td>\n",
              "      <td>1</td>\n",
              "      <td>2</td>\n",
              "    </tr>\n",
              "    <tr>\n",
              "      <th>1</th>\n",
              "      <td>-2.590676</td>\n",
              "      <td>-5.937386</td>\n",
              "      <td>0.248311</td>\n",
              "      <td>7.411845</td>\n",
              "      <td>4.211555</td>\n",
              "      <td>0.818991</td>\n",
              "      <td>-0.117905</td>\n",
              "      <td>-4.620935</td>\n",
              "      <td>0.174734</td>\n",
              "      <td>-0.470983</td>\n",
              "      <td>...</td>\n",
              "      <td>-0.030040</td>\n",
              "      <td>-0.113300</td>\n",
              "      <td>0.956202</td>\n",
              "      <td>-0.560775</td>\n",
              "      <td>0.151309</td>\n",
              "      <td>0.108843</td>\n",
              "      <td>0.000435</td>\n",
              "      <td>1.261450</td>\n",
              "      <td>1</td>\n",
              "      <td>2</td>\n",
              "    </tr>\n",
              "    <tr>\n",
              "      <th>2</th>\n",
              "      <td>-2.135377</td>\n",
              "      <td>-6.289446</td>\n",
              "      <td>0.213898</td>\n",
              "      <td>7.576798</td>\n",
              "      <td>3.918421</td>\n",
              "      <td>2.003072</td>\n",
              "      <td>-0.747290</td>\n",
              "      <td>-3.396869</td>\n",
              "      <td>-2.314333</td>\n",
              "      <td>-2.064491</td>\n",
              "      <td>...</td>\n",
              "      <td>-0.233352</td>\n",
              "      <td>-0.445675</td>\n",
              "      <td>0.777352</td>\n",
              "      <td>-0.103923</td>\n",
              "      <td>-0.134453</td>\n",
              "      <td>-0.340532</td>\n",
              "      <td>-0.316837</td>\n",
              "      <td>0.832557</td>\n",
              "      <td>1</td>\n",
              "      <td>2</td>\n",
              "    </tr>\n",
              "    <tr>\n",
              "      <th>3</th>\n",
              "      <td>-1.212757</td>\n",
              "      <td>-6.602966</td>\n",
              "      <td>0.237742</td>\n",
              "      <td>7.495102</td>\n",
              "      <td>3.933036</td>\n",
              "      <td>1.295301</td>\n",
              "      <td>-0.393547</td>\n",
              "      <td>-4.409749</td>\n",
              "      <td>-1.121029</td>\n",
              "      <td>-0.369048</td>\n",
              "      <td>...</td>\n",
              "      <td>-0.408606</td>\n",
              "      <td>-0.054751</td>\n",
              "      <td>1.227692</td>\n",
              "      <td>1.955058</td>\n",
              "      <td>2.975982</td>\n",
              "      <td>-2.589772</td>\n",
              "      <td>-0.192460</td>\n",
              "      <td>-1.757941</td>\n",
              "      <td>0</td>\n",
              "      <td>2</td>\n",
              "    </tr>\n",
              "    <tr>\n",
              "      <th>4</th>\n",
              "      <td>-2.403445</td>\n",
              "      <td>-7.034885</td>\n",
              "      <td>0.218804</td>\n",
              "      <td>7.757106</td>\n",
              "      <td>3.782565</td>\n",
              "      <td>1.816631</td>\n",
              "      <td>-0.600110</td>\n",
              "      <td>-3.916189</td>\n",
              "      <td>-1.449555</td>\n",
              "      <td>-1.772607</td>\n",
              "      <td>...</td>\n",
              "      <td>-0.874185</td>\n",
              "      <td>0.000477</td>\n",
              "      <td>0.051485</td>\n",
              "      <td>0.548440</td>\n",
              "      <td>0.590822</td>\n",
              "      <td>0.877269</td>\n",
              "      <td>0.034263</td>\n",
              "      <td>0.109223</td>\n",
              "      <td>0</td>\n",
              "      <td>2</td>\n",
              "    </tr>\n",
              "  </tbody>\n",
              "</table>\n",
              "<p>5 rows × 72 columns</p>\n",
              "</div>\n",
              "    <div class=\"colab-df-buttons\">\n",
              "\n",
              "  <div class=\"colab-df-container\">\n",
              "    <button class=\"colab-df-convert\" onclick=\"convertToInteractive('df-9e20f891-9371-4893-a4dd-367445b9b767')\"\n",
              "            title=\"Convert this dataframe to an interactive table.\"\n",
              "            style=\"display:none;\">\n",
              "\n",
              "  <svg xmlns=\"http://www.w3.org/2000/svg\" height=\"24px\" viewBox=\"0 -960 960 960\">\n",
              "    <path d=\"M120-120v-720h720v720H120Zm60-500h600v-160H180v160Zm220 220h160v-160H400v160Zm0 220h160v-160H400v160ZM180-400h160v-160H180v160Zm440 0h160v-160H620v160ZM180-180h160v-160H180v160Zm440 0h160v-160H620v160Z\"/>\n",
              "  </svg>\n",
              "    </button>\n",
              "\n",
              "  <style>\n",
              "    .colab-df-container {\n",
              "      display:flex;\n",
              "      gap: 12px;\n",
              "    }\n",
              "\n",
              "    .colab-df-convert {\n",
              "      background-color: #E8F0FE;\n",
              "      border: none;\n",
              "      border-radius: 50%;\n",
              "      cursor: pointer;\n",
              "      display: none;\n",
              "      fill: #1967D2;\n",
              "      height: 32px;\n",
              "      padding: 0 0 0 0;\n",
              "      width: 32px;\n",
              "    }\n",
              "\n",
              "    .colab-df-convert:hover {\n",
              "      background-color: #E2EBFA;\n",
              "      box-shadow: 0px 1px 2px rgba(60, 64, 67, 0.3), 0px 1px 3px 1px rgba(60, 64, 67, 0.15);\n",
              "      fill: #174EA6;\n",
              "    }\n",
              "\n",
              "    .colab-df-buttons div {\n",
              "      margin-bottom: 4px;\n",
              "    }\n",
              "\n",
              "    [theme=dark] .colab-df-convert {\n",
              "      background-color: #3B4455;\n",
              "      fill: #D2E3FC;\n",
              "    }\n",
              "\n",
              "    [theme=dark] .colab-df-convert:hover {\n",
              "      background-color: #434B5C;\n",
              "      box-shadow: 0px 1px 3px 1px rgba(0, 0, 0, 0.15);\n",
              "      filter: drop-shadow(0px 1px 2px rgba(0, 0, 0, 0.3));\n",
              "      fill: #FFFFFF;\n",
              "    }\n",
              "  </style>\n",
              "\n",
              "    <script>\n",
              "      const buttonEl =\n",
              "        document.querySelector('#df-9e20f891-9371-4893-a4dd-367445b9b767 button.colab-df-convert');\n",
              "      buttonEl.style.display =\n",
              "        google.colab.kernel.accessAllowed ? 'block' : 'none';\n",
              "\n",
              "      async function convertToInteractive(key) {\n",
              "        const element = document.querySelector('#df-9e20f891-9371-4893-a4dd-367445b9b767');\n",
              "        const dataTable =\n",
              "          await google.colab.kernel.invokeFunction('convertToInteractive',\n",
              "                                                    [key], {});\n",
              "        if (!dataTable) return;\n",
              "\n",
              "        const docLinkHtml = 'Like what you see? Visit the ' +\n",
              "          '<a target=\"_blank\" href=https://colab.research.google.com/notebooks/data_table.ipynb>data table notebook</a>'\n",
              "          + ' to learn more about interactive tables.';\n",
              "        element.innerHTML = '';\n",
              "        dataTable['output_type'] = 'display_data';\n",
              "        await google.colab.output.renderOutput(dataTable, element);\n",
              "        const docLink = document.createElement('div');\n",
              "        docLink.innerHTML = docLinkHtml;\n",
              "        element.appendChild(docLink);\n",
              "      }\n",
              "    </script>\n",
              "  </div>\n",
              "\n",
              "\n",
              "    <div id=\"df-063390fc-c01c-45a5-96ee-9dde30ae6d73\">\n",
              "      <button class=\"colab-df-quickchart\" onclick=\"quickchart('df-063390fc-c01c-45a5-96ee-9dde30ae6d73')\"\n",
              "                title=\"Suggest charts\"\n",
              "                style=\"display:none;\">\n",
              "\n",
              "<svg xmlns=\"http://www.w3.org/2000/svg\" height=\"24px\"viewBox=\"0 0 24 24\"\n",
              "     width=\"24px\">\n",
              "    <g>\n",
              "        <path d=\"M19 3H5c-1.1 0-2 .9-2 2v14c0 1.1.9 2 2 2h14c1.1 0 2-.9 2-2V5c0-1.1-.9-2-2-2zM9 17H7v-7h2v7zm4 0h-2V7h2v10zm4 0h-2v-4h2v4z\"/>\n",
              "    </g>\n",
              "</svg>\n",
              "      </button>\n",
              "\n",
              "<style>\n",
              "  .colab-df-quickchart {\n",
              "      --bg-color: #E8F0FE;\n",
              "      --fill-color: #1967D2;\n",
              "      --hover-bg-color: #E2EBFA;\n",
              "      --hover-fill-color: #174EA6;\n",
              "      --disabled-fill-color: #AAA;\n",
              "      --disabled-bg-color: #DDD;\n",
              "  }\n",
              "\n",
              "  [theme=dark] .colab-df-quickchart {\n",
              "      --bg-color: #3B4455;\n",
              "      --fill-color: #D2E3FC;\n",
              "      --hover-bg-color: #434B5C;\n",
              "      --hover-fill-color: #FFFFFF;\n",
              "      --disabled-bg-color: #3B4455;\n",
              "      --disabled-fill-color: #666;\n",
              "  }\n",
              "\n",
              "  .colab-df-quickchart {\n",
              "    background-color: var(--bg-color);\n",
              "    border: none;\n",
              "    border-radius: 50%;\n",
              "    cursor: pointer;\n",
              "    display: none;\n",
              "    fill: var(--fill-color);\n",
              "    height: 32px;\n",
              "    padding: 0;\n",
              "    width: 32px;\n",
              "  }\n",
              "\n",
              "  .colab-df-quickchart:hover {\n",
              "    background-color: var(--hover-bg-color);\n",
              "    box-shadow: 0 1px 2px rgba(60, 64, 67, 0.3), 0 1px 3px 1px rgba(60, 64, 67, 0.15);\n",
              "    fill: var(--button-hover-fill-color);\n",
              "  }\n",
              "\n",
              "  .colab-df-quickchart-complete:disabled,\n",
              "  .colab-df-quickchart-complete:disabled:hover {\n",
              "    background-color: var(--disabled-bg-color);\n",
              "    fill: var(--disabled-fill-color);\n",
              "    box-shadow: none;\n",
              "  }\n",
              "\n",
              "  .colab-df-spinner {\n",
              "    border: 2px solid var(--fill-color);\n",
              "    border-color: transparent;\n",
              "    border-bottom-color: var(--fill-color);\n",
              "    animation:\n",
              "      spin 1s steps(1) infinite;\n",
              "  }\n",
              "\n",
              "  @keyframes spin {\n",
              "    0% {\n",
              "      border-color: transparent;\n",
              "      border-bottom-color: var(--fill-color);\n",
              "      border-left-color: var(--fill-color);\n",
              "    }\n",
              "    20% {\n",
              "      border-color: transparent;\n",
              "      border-left-color: var(--fill-color);\n",
              "      border-top-color: var(--fill-color);\n",
              "    }\n",
              "    30% {\n",
              "      border-color: transparent;\n",
              "      border-left-color: var(--fill-color);\n",
              "      border-top-color: var(--fill-color);\n",
              "      border-right-color: var(--fill-color);\n",
              "    }\n",
              "    40% {\n",
              "      border-color: transparent;\n",
              "      border-right-color: var(--fill-color);\n",
              "      border-top-color: var(--fill-color);\n",
              "    }\n",
              "    60% {\n",
              "      border-color: transparent;\n",
              "      border-right-color: var(--fill-color);\n",
              "    }\n",
              "    80% {\n",
              "      border-color: transparent;\n",
              "      border-right-color: var(--fill-color);\n",
              "      border-bottom-color: var(--fill-color);\n",
              "    }\n",
              "    90% {\n",
              "      border-color: transparent;\n",
              "      border-bottom-color: var(--fill-color);\n",
              "    }\n",
              "  }\n",
              "</style>\n",
              "\n",
              "      <script>\n",
              "        async function quickchart(key) {\n",
              "          const quickchartButtonEl =\n",
              "            document.querySelector('#' + key + ' button');\n",
              "          quickchartButtonEl.disabled = true;  // To prevent multiple clicks.\n",
              "          quickchartButtonEl.classList.add('colab-df-spinner');\n",
              "          try {\n",
              "            const charts = await google.colab.kernel.invokeFunction(\n",
              "                'suggestCharts', [key], {});\n",
              "          } catch (error) {\n",
              "            console.error('Error during call to suggestCharts:', error);\n",
              "          }\n",
              "          quickchartButtonEl.classList.remove('colab-df-spinner');\n",
              "          quickchartButtonEl.classList.add('colab-df-quickchart-complete');\n",
              "        }\n",
              "        (() => {\n",
              "          let quickchartButtonEl =\n",
              "            document.querySelector('#df-063390fc-c01c-45a5-96ee-9dde30ae6d73 button');\n",
              "          quickchartButtonEl.style.display =\n",
              "            google.colab.kernel.accessAllowed ? 'block' : 'none';\n",
              "        })();\n",
              "      </script>\n",
              "    </div>\n",
              "\n",
              "    </div>\n",
              "  </div>\n"
            ],
            "application/vnd.google.colaboratory.intrinsic+json": {
              "type": "dataframe",
              "variable_name": "df"
            }
          },
          "metadata": {},
          "execution_count": 3
        }
      ],
      "source": [
        "df = pd.read_csv(\"/content/df_pca_general_3_clusters.csv\")\n",
        "df.head()"
      ]
    },
    {
      "cell_type": "code",
      "execution_count": null,
      "id": "31fddb39",
      "metadata": {
        "colab": {
          "base_uri": "https://localhost:8080/",
          "height": 209
        },
        "id": "31fddb39",
        "outputId": "721b3fdd-43fe-441d-b6cb-aa4c8ba01bb1"
      },
      "outputs": [
        {
          "output_type": "execute_result",
          "data": {
            "text/plain": [
              "Cluster\n",
              "0    135312\n",
              "2    118983\n",
              "1     18560\n",
              "Name: count, dtype: int64"
            ],
            "text/html": [
              "<div>\n",
              "<style scoped>\n",
              "    .dataframe tbody tr th:only-of-type {\n",
              "        vertical-align: middle;\n",
              "    }\n",
              "\n",
              "    .dataframe tbody tr th {\n",
              "        vertical-align: top;\n",
              "    }\n",
              "\n",
              "    .dataframe thead th {\n",
              "        text-align: right;\n",
              "    }\n",
              "</style>\n",
              "<table border=\"1\" class=\"dataframe\">\n",
              "  <thead>\n",
              "    <tr style=\"text-align: right;\">\n",
              "      <th></th>\n",
              "      <th>count</th>\n",
              "    </tr>\n",
              "    <tr>\n",
              "      <th>Cluster</th>\n",
              "      <th></th>\n",
              "    </tr>\n",
              "  </thead>\n",
              "  <tbody>\n",
              "    <tr>\n",
              "      <th>0</th>\n",
              "      <td>135312</td>\n",
              "    </tr>\n",
              "    <tr>\n",
              "      <th>2</th>\n",
              "      <td>118983</td>\n",
              "    </tr>\n",
              "    <tr>\n",
              "      <th>1</th>\n",
              "      <td>18560</td>\n",
              "    </tr>\n",
              "  </tbody>\n",
              "</table>\n",
              "</div><br><label><b>dtype:</b> int64</label>"
            ]
          },
          "metadata": {},
          "execution_count": 4
        }
      ],
      "source": [
        "df.value_counts(df['Cluster'])"
      ]
    },
    {
      "cell_type": "code",
      "execution_count": null,
      "id": "b27c8380",
      "metadata": {
        "colab": {
          "base_uri": "https://localhost:8080/",
          "height": 571
        },
        "id": "b27c8380",
        "outputId": "935fac49-de4d-4f5b-9a18-3bc5921fbedc"
      },
      "outputs": [
        {
          "output_type": "stream",
          "name": "stdout",
          "text": [
            "Distribución de clases:\n",
            " Cluster\n",
            "0    135312\n",
            "2    118983\n",
            "1     18560\n",
            "Name: count, dtype: int64\n"
          ]
        },
        {
          "output_type": "display_data",
          "data": {
            "text/plain": [
              "<Figure size 640x480 with 1 Axes>"
            ],
            "image/png": "[encoded data removed]"
          },
          "metadata": {}
        }
      ],
      "source": [
        "y = df['Cluster']\n",
        "counts = y.value_counts()\n",
        "print(\"Distribución de clases:\\n\", counts)\n",
        "counts.plot(kind='bar', title='Distribución de Clases')\n",
        "plt.show()"
      ]
    },
    {
      "cell_type": "code",
      "source": [
        "model_imported = joblib.load('/content/random_forest_model.pkl')"
      ],
      "metadata": {
        "id": "9wD-p4scd8L2"
      },
      "id": "9wD-p4scd8L2",
      "execution_count": null,
      "outputs": []
    },
    {
      "cell_type": "markdown",
      "id": "3b2c2be7",
      "metadata": {
        "id": "3b2c2be7"
      },
      "source": [
        "## Train-test split"
      ]
    },
    {
      "cell_type": "code",
      "execution_count": null,
      "id": "c5ea47bd",
      "metadata": {
        "id": "c5ea47bd"
      },
      "outputs": [],
      "source": [
        "X = df.drop('Cluster', axis=1)\n",
        "y = df['Cluster']"
      ]
    },
    {
      "cell_type": "code",
      "source": [
        "model_imported.predict(np.array(X.iloc[0]).reshape(1,-1))"
      ],
      "metadata": {
        "colab": {
          "base_uri": "https://localhost:8080/"
        },
        "id": "WBsQbvDJefip",
        "outputId": "2dc56b89-8f3a-4f23-c670-7b61c2b67579"
      },
      "id": "WBsQbvDJefip",
      "execution_count": null,
      "outputs": [
        {
          "output_type": "execute_result",
          "data": {
            "text/plain": [
              "array([2])"
            ]
          },
          "metadata": {},
          "execution_count": 16
        }
      ]
    },
    {
      "cell_type": "markdown",
      "id": "c156bb32",
      "metadata": {
        "id": "c156bb32"
      },
      "source": [
        "Usamos el parámetro stratify para que se mantenga la proporción de clases en el conjunto de prueba como en el de entrenamiento."
      ]
    },
    {
      "cell_type": "code",
      "execution_count": null,
      "id": "185a0312",
      "metadata": {
        "id": "185a0312"
      },
      "outputs": [],
      "source": [
        "from sklearn.model_selection import train_test_split\n",
        "X_train, X_test, y_train, y_test = train_test_split(X, y, test_size=0.2, stratify=y, random_state=42)"
      ]
    },
    {
      "cell_type": "markdown",
      "id": "50a713b7",
      "metadata": {
        "id": "50a713b7"
      },
      "source": [
        "## Balenceo de clases"
      ]
    },
    {
      "cell_type": "markdown",
      "id": "5d532f5e",
      "metadata": {
        "id": "5d532f5e"
      },
      "source": [
        "Esto combina el método SMOTE para generar datos sintéticos para las clases minoritarias con el método de undersampling aleatorio para las clases mayoritarias."
      ]
    },
    {
      "cell_type": "code",
      "execution_count": null,
      "id": "fc262ab2",
      "metadata": {
        "id": "fc262ab2"
      },
      "outputs": [],
      "source": [
        "from imblearn.combine import SMOTETomek\n",
        "smote_tomek = SMOTETomek(random_state=42)\n",
        "X_train_res, y_train_res = smote_tomek.fit_resample(X_train, y_train)"
      ]
    },
    {
      "cell_type": "code",
      "execution_count": null,
      "id": "o7oztUJ_sjTw",
      "metadata": {
        "colab": {
          "base_uri": "https://localhost:8080/",
          "height": 571
        },
        "id": "o7oztUJ_sjTw",
        "outputId": "969e8a37-b291-44fb-a284-210239177194"
      },
      "outputs": [
        {
          "output_type": "stream",
          "name": "stdout",
          "text": [
            "Distribución de clases:\n",
            " Cluster\n",
            "1    108245\n",
            "2    107040\n",
            "0    107039\n",
            "Name: count, dtype: int64\n"
          ]
        },
        {
          "output_type": "display_data",
          "data": {
            "text/plain": [
              "<Figure size 640x480 with 1 Axes>"
            ],
            "image/png": "[encoded data removed]"
          },
          "metadata": {}
        }
      ],
      "source": [
        "counts_bal = y_train_res.value_counts()\n",
        "print(\"Distribución de clases:\\n\", counts_bal)\n",
        "counts_bal.plot(kind='bar', title='Distribución de Clases')\n",
        "plt.show()"
      ]
    },
    {
      "cell_type": "markdown",
      "id": "qDW_s3atjDBI",
      "metadata": {
        "id": "qDW_s3atjDBI"
      },
      "source": [
        "## Modelo RandomForest con clases balanceadas"
      ]
    },
    {
      "cell_type": "code",
      "execution_count": null,
      "id": "f9b50a2f",
      "metadata": {
        "id": "f9b50a2f"
      },
      "outputs": [],
      "source": [
        "from sklearn.ensemble import RandomForestClassifier\n",
        "model = RandomForestClassifier(class_weight='balanced', random_state=42)"
      ]
    },
    {
      "cell_type": "markdown",
      "id": "BaRce9NXjMOk",
      "metadata": {
        "id": "BaRce9NXjMOk"
      },
      "source": [
        "## 5-fold cross-validation"
      ]
    },
    {
      "cell_type": "code",
      "execution_count": null,
      "id": "b9BYC4fAjOvw",
      "metadata": {
        "colab": {
          "base_uri": "https://localhost:8080/"
        },
        "id": "b9BYC4fAjOvw",
        "outputId": "89df73c6-9fae-44bc-a3eb-0422d35ad3a3"
      },
      "outputs": [
        {
          "output_type": "stream",
          "name": "stdout",
          "text": [
            "F1-score promedio: 0.9951002657169059\n"
          ]
        }
      ],
      "source": [
        "from sklearn.model_selection import cross_val_score, StratifiedKFold\n",
        "cv = StratifiedKFold(n_splits=5, shuffle=True, random_state=42)\n",
        "scores = cross_val_score(model, X_train_res, y_train_res, cv=cv, scoring='f1_weighted')\n",
        "print(\"F1-score promedio:\", scores.mean())"
      ]
    },
    {
      "cell_type": "markdown",
      "id": "xt_0UU4zjW2n",
      "metadata": {
        "id": "xt_0UU4zjW2n"
      },
      "source": [
        "## Métricas de evaluación"
      ]
    },
    {
      "cell_type": "code",
      "execution_count": null,
      "id": "tGnxFl7XjYbz",
      "metadata": {
        "colab": {
          "base_uri": "https://localhost:8080/"
        },
        "id": "tGnxFl7XjYbz",
        "outputId": "b4f5089a-1fb2-4641-bbdd-508cbab9fa4e"
      },
      "outputs": [
        {
          "output_type": "stream",
          "name": "stdout",
          "text": [
            "Matriz de Confusión:\n",
            " [[26834   115   113]\n",
            " [   13  3689    10]\n",
            " [  108    89 23600]]\n",
            "\n",
            "Reporte de Clasificación:\n",
            "               precision    recall  f1-score   support\n",
            "\n",
            "           0       1.00      0.99      0.99     27062\n",
            "           1       0.95      0.99      0.97      3712\n",
            "           2       0.99      0.99      0.99     23797\n",
            "\n",
            "    accuracy                           0.99     54571\n",
            "   macro avg       0.98      0.99      0.99     54571\n",
            "weighted avg       0.99      0.99      0.99     54571\n",
            "\n"
          ]
        }
      ],
      "source": [
        "from sklearn.metrics import classification_report, confusion_matrix\n",
        "\n",
        "model.fit(X_train_res, y_train_res)\n",
        "y_pred = model.predict(X_test)\n",
        "\n",
        "print(\"Matriz de Confusión:\\n\", confusion_matrix(y_test, y_pred))\n",
        "print(\"\\nReporte de Clasificación:\\n\", classification_report(y_test, y_pred))"
      ]
    },
    {
      "cell_type": "code",
      "execution_count": null,
      "id": "hhkUfb_DqQK_",
      "metadata": {
        "colab": {
          "base_uri": "https://localhost:8080/",
          "height": 566
        },
        "id": "hhkUfb_DqQK_",
        "outputId": "9f9666f8-981e-4450-9a31-aa5e6e904f4a"
      },
      "outputs": [
        {
          "output_type": "display_data",
          "data": {
            "text/plain": [
              "<Figure size 800x600 with 2 Axes>"
            ],
            "image/png": "[encoded data removed]"
          },
          "metadata": {}
        }
      ],
      "source": [
        "cm = confusion_matrix(y_test, y_pred)\n",
        "plt.figure(figsize=(8, 6))\n",
        "sns.heatmap(cm, annot=True, fmt='d', cmap='coolwarm',\n",
        "            center=cm.max()/2, linewidths=0.5, linecolor='gray')\n",
        "plt.title('Matriz de Confusión con Divergencia de Color', fontsize=14)\n",
        "plt.xlabel('Predicciones', fontweight='bold')\n",
        "plt.ylabel('Reales', fontweight='bold')\n",
        "plt.show()"
      ]
    },
    {
      "cell_type": "markdown",
      "source": [
        "## Modelo exportado"
      ],
      "metadata": {
        "id": "LCiXWepmt0of"
      },
      "id": "LCiXWepmt0of"
    },
    {
      "cell_type": "code",
      "source": [
        "import joblib\n",
        "joblib.dump(model, 'random_forest_model.pkl')"
      ],
      "metadata": {
        "colab": {
          "base_uri": "https://localhost:8080/"
        },
        "id": "68Cc2L8Wt3Cy",
        "outputId": "97e24a98-b278-4e86-e917-67729926d41a"
      },
      "id": "68Cc2L8Wt3Cy",
      "execution_count": null,
      "outputs": [
        {
          "output_type": "execute_result",
          "data": {
            "text/plain": [
              "['random_forest_model.pkl']"
            ]
          },
          "metadata": {},
          "execution_count": 12
        }
      ]
    },
    {
      "cell_type": "markdown",
      "id": "NnF8kv_xXv-X",
      "metadata": {
        "id": "NnF8kv_xXv-X"
      },
      "source": [
        "## Tuning SVM"
      ]
    },
    {
      "cell_type": "code",
      "execution_count": null,
      "id": "1fiSoUBgX2Kf",
      "metadata": {
        "id": "1fiSoUBgX2Kf"
      },
      "outputs": [],
      "source": [
        "X_pca = df.drop([\"Cluster\", \"Variable_objetivo\"], axis = 1)\n",
        "y_pca = df['Variable_objetivo']"
      ]
    },
    {
      "cell_type": "code",
      "execution_count": null,
      "id": "zkwBJz9gY4bu",
      "metadata": {
        "id": "zkwBJz9gY4bu"
      },
      "outputs": [],
      "source": [
        "from sklearn.model_selection import train_test_split\n",
        "X_train_pca, X_test_pca, y_train_pca, y_test_pca = train_test_split(X_pca, y_pca, test_size=0.2, stratify=y_pca, random_state=42)"
      ]
    },
    {
      "cell_type": "code",
      "execution_count": null,
      "id": "ljyBHbojXxUN",
      "metadata": {
        "colab": {
          "background_save": true,
          "base_uri": "https://localhost:8080/"
        },
        "id": "ljyBHbojXxUN",
        "outputId": "b4479047-e409-49af-e4f4-24804daa39b7"
      },
      "outputs": [
        {
          "name": "stdout",
          "output_type": "stream",
          "text": [
            "Fitting 3 folds for each of 5 candidates, totalling 15 fits\n"
          ]
        }
      ],
      "source": [
        "from sklearn.svm import SVC\n",
        "from sklearn.model_selection import RandomizedSearchCV\n",
        "from sklearn.metrics import accuracy_score, classification_report, confusion_matrix\n",
        "import numpy as np\n",
        "\n",
        "# 1. Definir el modelo base\n",
        "svm_model = SVC(random_state=1234, probability=True)\n",
        "\n",
        "# 2. Espacio de hiperparámetros reducido\n",
        "param_dist_svm = {\n",
        "    'C': [0.1, 1, 10],                   # Menos opciones (valores clave)\n",
        "    'kernel': ['linear', 'rbf'],          # Eliminamos 'poly' (más lento)\n",
        "    'gamma': ['scale', 'auto', 0.1, 1],   # Valores comunes para RBF\n",
        "    'class_weight': [None]                # Eliminamos 'balanced' (ya está balanceado)\n",
        "}\n",
        "\n",
        "# 3. Búsqueda aleatoria más rápida\n",
        "random_search_svm = RandomizedSearchCV(\n",
        "    estimator=svm_model,\n",
        "    param_distributions=param_dist_svm,\n",
        "    n_iter=5,              # Reducir combinaciones (de 20 a 10)\n",
        "    scoring='accuracy',\n",
        "    cv=3,\n",
        "    verbose=2,\n",
        "    n_jobs=-1,\n",
        "    random_state=1234\n",
        ")\n",
        "\n",
        "# 4. Entrenamiento (ahora será más rápido)\n",
        "random_search_svm.fit(X_train_pca, y_train_pca)\n",
        "\n",
        "# 5. Evaluación (igual que antes)\n",
        "best_svm = random_search_svm.best_estimator_\n",
        "y_pred_svm = best_svm.predict(X_test_pca)\n",
        "\n",
        "accuracy_svm = accuracy_score(y_test, y_pred_svm)\n",
        "print(f\"\\nAccuracy (SVM optimizado): {accuracy_svm:.4f}\")\n",
        "print(f\"Mejores hiperparámetros: {random_search_svm.best_params_}\\n\")\n",
        "\n",
        "print(\"Matriz de Confusión:\")\n",
        "print(confusion_matrix(y_test, y_pred_svm))\n",
        "\n",
        "print(\"\\nReporte de Clasificación:\")\n",
        "print(classification_report(y_test, y_pred_svm))"
      ]
    }
  ],
  "metadata": {
    "colab": {
      "provenance": []
    },
    "kernelspec": {
      "display_name": "base",
      "language": "python",
      "name": "python3"
    },
    "language_info": {
      "codemirror_mode": {
        "name": "ipython",
        "version": 3
      },
      "file_extension": ".py",
      "mimetype": "text/x-python",
      "name": "python",
      "nbconvert_exporter": "python",
      "pygments_lexer": "ipython3",
      "version": "3.11.5"
    }
  },
  "nbformat": 4,
  "nbformat_minor": 5
}